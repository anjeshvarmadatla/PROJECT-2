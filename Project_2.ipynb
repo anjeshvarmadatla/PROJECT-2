{
  "nbformat": 4,
  "nbformat_minor": 0,
  "metadata": {
    "colab": {
      "provenance": []
    },
    "kernelspec": {
      "name": "python3",
      "display_name": "Python 3"
    },
    "language_info": {
      "name": "python"
    }
  },
  "cells": [
    {
      "cell_type": "code",
      "execution_count": null,
      "metadata": {
        "colab": {
          "base_uri": "https://localhost:8080/"
        },
        "id": "e3gf8CeXiaAF",
        "outputId": "137a4040-1af4-4518-b2da-7ce718f0deb2"
      },
      "outputs": [
        {
          "output_type": "stream",
          "name": "stdout",
          "text": [
            "Looking in indexes: https://pypi.org/simple, https://us-python.pkg.dev/colab-wheels/public/simple/\n",
            "Requirement already satisfied: opencv-python in /usr/local/lib/python3.10/dist-packages (4.7.0.72)\n",
            "Requirement already satisfied: numpy>=1.21.2 in /usr/local/lib/python3.10/dist-packages (from opencv-python) (1.22.4)\n"
          ]
        }
      ],
      "source": [
        "pip install opencv-python"
      ]
    },
    {
      "cell_type": "code",
      "source": [
        "import cv2\n",
        "\n",
        "def convert_to_pencil_sketch(image_path):\n",
        "    # Read the image\n",
        "    image = cv2.imread(image_path)\n",
        "\n",
        "    # Convert the image to grayscale\n",
        "    gray_image = cv2.cvtColor(image, cv2.COLOR_BGR2GRAY)\n",
        "\n",
        "    # Invert the grayscale image\n",
        "    inverted_image = cv2.bitwise_not(gray_image)\n",
        "\n",
        "    # Apply Gaussian blur to the inverted image\n",
        "    blurred_image = cv2.GaussianBlur(inverted_image, (111, 111), 0)\n",
        "\n",
        "    # Blend the grayscale image with the blurred inverted image using the \"color dodge\" blend mode\n",
        "    pencil_sketch = cv2.divide(gray_image, 255 - blurred_image, scale=256.0)\n",
        "\n",
        "    # Save the pencil sketch image\n",
        "    cv2.imwrite(\"pencil_sketch.jpg\", pencil_sketch)\n",
        "\n",
        "# Path to the input image\n",
        "image_path = \"/content/codeclause.png\"\n",
        "\n",
        "# Convert the image to a pencil sketch\n",
        "convert_to_pencil_sketch(image_path)"
      ],
      "metadata": {
        "id": "955wAVEWjydE"
      },
      "execution_count": null,
      "outputs": []
    },
    {
      "cell_type": "code",
      "source": [],
      "metadata": {
        "id": "TjEIe7_Okh4f"
      },
      "execution_count": null,
      "outputs": []
    }
  ]
}